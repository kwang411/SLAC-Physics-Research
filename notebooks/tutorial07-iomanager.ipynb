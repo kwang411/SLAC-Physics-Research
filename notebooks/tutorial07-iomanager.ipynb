{
 "cells": [
  {
   "cell_type": "markdown",
   "metadata": {},
   "source": [
    "In this notebook we go over how to use [larcv](https://github.com/DeepLearnPhysics/larcv2)'s dedicated IO interface, `larcv::IOManager` C++ class to browse the file contents. If you are looking for a tutorial to use bare [ROOT](https://root.cern.ch) APIs, checkout [this tutorial](http://deeplearnphysics.org/Blog/tutorials/tutorial-02.html).  That said, here's an outline of what's covered in this notebook.\n",
    "\n",
    "* [Instantiation of IOManager by hand](#byhand)\n",
    "* [How to use a configuration text file](#configfile)\n",
    "* [Browsing the file contents with IOManager](#browsing)\n",
    "* [What are \"_entries_\"?](#entries)\n",
    "* [Accessing an entry with IOManager](#snapshot)\n",
    "* [Making a brand-new LArCV file](#write)\n",
    "* [Making a modification/addition to an existing file](#readwrite)\n",
    "* [Making your IO faster](#readwrite_fast)\n",
    "* [Closing remark (can ignore)](#closing)\n",
    "\n",
    "\n",
    "We assume you already set up larcv and cloned [larcv-tutorial](https://github.com/DeepLearnPhysics/larcv-tutorial) repository. If not, checkout our [installation tutorial](https://deeplearnphysics.org/Blog/tutorials/tutorial-01.html). Let's start with the basic imports."
   ]
  },
  {
   "cell_type": "code",
   "execution_count": 2,
   "metadata": {},
   "outputs": [],
   "source": [
    "from __future__ import print_function\n",
    "import ROOT\n",
    "from larcv import larcv\n",
    "import numpy\n",
    "import matplotlib.pyplot as plt\n",
    "%matplotlib inline"
   ]
  },
  {
   "cell_type": "markdown",
   "metadata": {},
   "source": [
    "We will use a ROOT file that comes with the tutorial repository."
   ]
  },
  {
   "cell_type": "code",
   "execution_count": 3,
   "metadata": {},
   "outputs": [
    {
     "name": "stdout",
     "output_type": "stream",
     "text": [
      "../electron.root\n",
      "../out_v2.root\n",
      "../proton.root\n",
      "../sample.root\n"
     ]
    }
   ],
   "source": [
    "%%bash\n",
    "ls ../*.root"
   ]
  },
  {
   "cell_type": "markdown",
   "metadata": {},
   "source": [
    "<a name=\"byhand\"></a>\n",
    "## Instantiation of IOManager (by hand)\n",
    "`larcv::IOManager` is [writen in C++](https://github.com/DeepLearnPhysics/larcv2/blob/develop/larcv/core/DataFormat/IOManager.h) but is accessible from Python. The default constructor creates an instance with two arguments: **`IOMode_t`** and `std::string` indicating the unique name of an instance. The `IOMode_t` is defined in `IOManager` scope as `enum IOMode_t {kREAD, kWRITE, kBOTH}`. You can give either enum expression or value."
   ]
  },
  {
   "cell_type": "code",
   "execution_count": 4,
   "metadata": {},
   "outputs": [
    {
     "name": "stdout",
     "output_type": "stream",
     "text": [
      "initialize() return: True\n",
      "    \u001b[95m[NORMAL]\u001b[00m \u001b[0m \u001b[94m<IOManager::prepare_input>\u001b[00m Opening a file in READ mode: ../proton.root\r\n",
      "    \u001b[95m[NORMAL]\u001b[00m \u001b[0m \u001b[94m<IOManager::prepare_input>\u001b[00m Opening a file in READ mode: ../electron.root\r\n",
      "    \u001b[95m[NORMAL]\u001b[00m \u001b[0m \u001b[94m<IOManager::initialize>\u001b[00m Prepared input with 20 entries...\r\n"
     ]
    }
   ],
   "source": [
    "io = larcv.IOManager(0,\"IOManager\") # identical to IOManager(larcv.IOManager.kREAD,\"IOManager\")\n",
    "# Add a list of files to read-in (>=1)\n",
    "io.add_in_file('../proton.root')\n",
    "io.add_in_file('../electron.root')\n",
    "# Calling initialize() will open up all files and prepare IO.\n",
    "# You cannot add more files after initialize() is called.\n",
    "print('initialize() return:',io.initialize())"
   ]
  },
  {
   "cell_type": "markdown",
   "metadata": {},
   "source": [
    "The colored messages with `[NORMAL]` prefix are sent from the IOManager instance for the set verbosity level (by default, `NORMAL`, `WARNING`, `ERROR` and `CRITICAL` are shown). You can see that 2 files requested to open are in fact recognized. The total of 20 entries is a stacked sum of events stored in both files. If you are wondering <font color=\"red\">**what does it mean by `entries`??**</font>, we will cover that in [later section](#entries) :).\n",
    "\n",
    "<a name=\"configfile\"></a>\n",
    "## Instantiation of IOManager (by configuration file)\n",
    "You can instantiate IOManager using a configuration text (ASCII) file, too. This may become handy if you prefer a formatted list of many configuration options (which we have not explored yet). Here's an example."
   ]
  },
  {
   "cell_type": "code",
   "execution_count": 5,
   "metadata": {},
   "outputs": [
    {
     "data": {
      "text/plain": [
       "True"
      ]
     },
     "execution_count": 5,
     "metadata": {},
     "output_type": "execute_result"
    },
    {
     "name": "stdout",
     "output_type": "stream",
     "text": [
      "    \u001b[95m[NORMAL]\u001b[00m \u001b[0m \u001b[94m<IOManager::prepare_input>\u001b[00m Opening a file in READ mode: ../proton.root\r\n",
      "    \u001b[95m[NORMAL]\u001b[00m \u001b[0m \u001b[94m<IOManager::prepare_input>\u001b[00m Opening a file in READ mode: ../electron.root\r\n",
      "    \u001b[95m[NORMAL]\u001b[00m \u001b[0m \u001b[94m<IOManager::initialize>\u001b[00m Prepared input with 20 entries...\r\n"
     ]
    }
   ],
   "source": [
    "io_config = \\\n",
    "\"\"\"\n",
    "IOManager: {\n",
    "  IOMode:    0\n",
    "  Verbosity: 2\n",
    "  InputFiles:   [\"../proton.root\",\"../electron.root\"]\n",
    "}\n",
    "\"\"\"\n",
    "\n",
    "import tempfile\n",
    "test_io_config = tempfile.NamedTemporaryFile('w')\n",
    "test_io_config.write(io_config)\n",
    "test_io_config.flush()\n",
    "\n",
    "io=larcv.IOManager(test_io_config.name)\n",
    "io.initialize()"
   ]
  },
  {
   "cell_type": "markdown",
   "metadata": {},
   "source": [
    "The verbsoity levels are also set by an `enum` [defined here](https://github.com/DeepLearnPhysics/larcv2/blob/develop/larcv/core/Base/LArCVTypes.h#L58). `NORMAL` corresponds to the enum value 2. If you would like to see more detailed output, you can set it to a lower value. But we won't try this in this jupyter notebook since the text output can overwhelm the kernel. If you would like to, try it in a plain python script by changing the `Verbosity` parameter value in the above configuration example to 1."
   ]
  },
  {
   "cell_type": "markdown",
   "metadata": {},
   "source": [
    "<a name=\"browsing\"></a>\n",
    "## Browsing the contents\n",
    "Once we opened a file, next we want to browse the contents. There are few useful functions to get the file _meta_ (i.e. summary) data."
   ]
  },
  {
   "cell_type": "code",
   "execution_count": 6,
   "metadata": {},
   "outputs": [
    {
     "name": "stdout",
     "output_type": "stream",
     "text": [
      "Listing files opened...\n",
      "  file 0: ../proton.root\n",
      "  file 1: ../electron.root\n",
      "\n",
      "Number of entries: 20\n",
      "\n",
      "Listing data products stored...\n",
      "  product type:\u001b[91m image2d \u001b[00m\n",
      "  product type:\u001b[91m particle \u001b[00m\n"
     ]
    }
   ],
   "source": [
    "# Get a list of opened files\n",
    "print('Listing files opened...')\n",
    "for count, name in enumerate(io.file_list()):\n",
    "    print('  file {:d}: {:s}'.format(count,name))\n",
    "# Get number of entries in the file\n",
    "print('\\nNumber of entries:', io.get_n_entries())\n",
    "# Get a list of data products stored\n",
    "print('\\nListing data products stored...')\n",
    "for name in io.product_list():\n",
    "    print('  product type:\\033[91m',name,'\\033[00m')"
   ]
  },
  {
   "cell_type": "markdown",
   "metadata": {},
   "source": [
    "The last function, `IOManager::product_list()`, is useful to know the list of data product types found (i.e. available) in the files (don't be distracted by `\\033[91m` and such: that's just me preferring to color-highlighting the printed message). The function returns a list of strings where each string is a unique identifier for a certain data product type. For example, `image2d` refers to `larcv::EventImage2D` data product. To learn about the list of data products, you can [read here](https://github.com/DeepLearnPhysics/larcv2/wiki/Data-Product). \n",
    "\n",
    "Now, in the file, you may have more than one _instance_ of a certain product type. For example, maybe Kazu decided to store EventImage2D (= just 2D image) of his daughter while Corey insists to store his daughter's image. LArCV supports both fathers' request to co-exist in the file by assigning a unique instance _label_ which is also a string. In other words, in larcv file, a unique data product instance is identified by a combination of two strings: **product type** and **instance label** where the latter is also called _producer label_ sometimes. Here is how to list a list of available instance labels in the file."
   ]
  },
  {
   "cell_type": "code",
   "execution_count": 7,
   "metadata": {},
   "outputs": [
    {
     "name": "stdout",
     "output_type": "stream",
     "text": [
      "product found... type: \"\u001b[91mimage2d\u001b[00m\" ... label \"\u001b[94mdata\u001b[00m\"\n",
      "product found... type: \"\u001b[91mparticle\u001b[00m\" ... label \"\u001b[94mmctruth\u001b[00m\"\n"
     ]
    }
   ],
   "source": [
    "msg = 'product found... type: \"\\033[91m{:s}\\033[00m\" ... label \"\\033[94m{:s}\\033[00m\"'\n",
    "for product_type in io.product_list():\n",
    "    for instance_label in io.producer_list(product_type):\n",
    "        print(msg.format(product_type,instance_label))"
   ]
  },
  {
   "cell_type": "markdown",
   "metadata": {},
   "source": [
    "Just in case you did not checkout a more basic tutorial on [using bare ROOT APIs](http://deeplearnphysics.org/Blog/tutorials/tutorial-02.html), this information can also be retrieved simply by:"
   ]
  },
  {
   "cell_type": "code",
   "execution_count": 8,
   "metadata": {},
   "outputs": [
    {
     "name": "stdout",
     "output_type": "stream",
     "text": [
      "TFile**\t\t../electron.root\t\r\n",
      " TFile*\t\t../electron.root\t\r\n",
      "  KEY: TTree\tparticle_mctruth_tree;1\tmctruth tree\r\n",
      "  KEY: TTree\timage2d_data_tree;1\tdata tree\r\n"
     ]
    }
   ],
   "source": [
    "ROOT.TFile.Open('../electron.root','READ').ls()"
   ]
  },
  {
   "cell_type": "markdown",
   "metadata": {},
   "source": [
    "... which lists bare [TTree](https://root.cern.ch/doc/master/classTTree.html) names that encodes two strings of our interest: data product type and instance label.\n",
    "\n",
    "<a name=\"entries\"></a>\n",
    "## _Entries_: structure of data in file\n",
    "In the [first example](#byhand) of opening a file in this notebook, we postponeded to discuss what \"entries\" mean. If you are from high energy physics community and familiar with ROOT, you can certainly skip this section. \n",
    "* Each data product instance (identified by a type and label) is stored in a dedicated ROOT TTree\n",
    "* Each TTree entry stores attribute values' snapshot at the moment when data is recorded.\n",
    "\n",
    "For instance, say we create an instance of EventImage2D to store 2D image in file. Let's say we filled this instance with an image of Kazu's daughter, and stored this _snapshot_. Then we re-filled the data product instance with an image of Corey's daughter, and again called the relevant function to store this _snapshot_. In this sequence of actions, <font color=\"blue\">TTree is filled with _two entries_</font> while there is <font color=\"blue\">only one data product instance _uniquely identified by the type and label strings_</font>. This is how data is stored in larcv file.\n",
    "\n",
    "Finally one more important point to be noted:\n",
    "* Entries across TTrees are aligned. This means the same entry of different TTrees (i.e. data product instances) correspond to the same _event_.\n",
    "\n",
    "Individual data product instance stores an aspect of an _event_, a word that refers to single instance of physical phenomenon happening. You may have as _many_ data products as you need to record the full details of physics phenomenon. To make this possible, we need all data product's snapshot to be _aligned_ so that we know which snapshot (i.e. data values) correspond to each other. This is achieved by using TTree's entry index number as a unique identifier of an event, and therefore the statement, \"entries across TTrees are aligned.\"\n",
    "\n",
    "<a name=\"snapshot\"></a>\n",
    "## Accessing TTree entry (i.e. snapshot of data)\n",
    "In order to access a certain entry, you can use `IOManager::read_entry` function."
   ]
  },
  {
   "cell_type": "code",
   "execution_count": 9,
   "metadata": {},
   "outputs": [
    {
     "name": "stdout",
     "output_type": "stream",
     "text": [
      "Retrieved data snapshot <ROOT.larcv::EventImage2D object at 0x7fcd797719e0>\n"
     ]
    }
   ],
   "source": [
    "# Access entry 0\n",
    "io.read_entry(0)\n",
    "# Access a product instance (type,label) = (image2d,data)\n",
    "image2d_data = io.get_data(\"image2d\",\"data\")\n",
    "print(\"Retrieved data snapshot\",image2d_data)"
   ]
  },
  {
   "cell_type": "markdown",
   "metadata": {},
   "source": [
    "Once entry is specified, `IOManager::get_data` function can be used to retrieve the data product instance filled with the snapshot value (i.e. entry=0). In this case the resulting object is `larcv::EventImage2D` C++ object exposed to python. You can call any attribute function defined in C++ to interact with the instance."
   ]
  },
  {
   "cell_type": "code",
   "execution_count": 10,
   "metadata": {},
   "outputs": [
    {
     "data": {
      "image/png": "[encoded data removed]",
      "text/plain": [
       "<matplotlib.figure.Figure at 0x133bfefd0>"
      ]
     },
     "metadata": {},
     "output_type": "display_data"
    }
   ],
   "source": [
    "numpy_image = larcv.as_ndarray(image2d_data.as_vector().front())\n",
    "fig = plt.figure(figsize=(8,8))\n",
    "plt.imshow(numpy_image, interpolation='none',cmap='jet')\n",
    "plt.show()"
   ]
  },
  {
   "cell_type": "markdown",
   "metadata": {},
   "source": [
    "_What is this image??_ Remember we have another data product type `particle`, and that records a type of particle stored in the same event."
   ]
  },
  {
   "cell_type": "code",
   "execution_count": 11,
   "metadata": {},
   "outputs": [
    {
     "name": "stdout",
     "output_type": "stream",
     "text": [
      "PDG Code: 2212\n"
     ]
    }
   ],
   "source": [
    "particle_data = io.get_data(\"particle\",\"mctruth\")\n",
    "print(\"PDG Code:\",particle_data.as_vector().front().pdg_code())"
   ]
  },
  {
   "cell_type": "markdown",
   "metadata": {},
   "source": [
    "where [PDG code](http://pdg.lbl.gov/2007/reviews/montecarlorpp.pdf) 2212 corresponds to a proton. So this is a 2D projection of a proton's trajectory!\n",
    "\n",
    "<a name=\"write\"></a>\n",
    "## Creating a new larcv file\n",
    "When you don't need to read an existing file but want to create a new file to store brandnew events, all you need to change is the `IOMode_t` to construct an IOManager instance."
   ]
  },
  {
   "cell_type": "code",
   "execution_count": 12,
   "metadata": {},
   "outputs": [
    {
     "name": "stdout",
     "output_type": "stream",
     "text": [
      "initialize() return: True\n"
     ]
    }
   ],
   "source": [
    "io = larcv.IOManager(1,\"IOManager\") # identical to IOManager(larcv.IOManager.kWRITE,\"IOManager\")\n",
    "# Set the output file name\n",
    "io.set_out_file('remove_me.root')\n",
    "# Calling initialize() will prepare IO.\n",
    "# You cannot change output file name after initialize() is called.\n",
    "print('initialize() return:',io.initialize())\n"
   ]
  },
  {
   "cell_type": "markdown",
   "metadata": {},
   "source": [
    "Or, equivalently using a configuration file:"
   ]
  },
  {
   "cell_type": "code",
   "execution_count": 13,
   "metadata": {},
   "outputs": [
    {
     "data": {
      "text/plain": [
       "True"
      ]
     },
     "execution_count": 13,
     "metadata": {},
     "output_type": "execute_result"
    }
   ],
   "source": [
    "io_config = \\\n",
    "\"\"\"\n",
    "IOManager: {\n",
    "  IOMode:    1\n",
    "  Verbosity: 2\n",
    "  OutFileName: \"remove_me.root\"\n",
    "}\n",
    "\"\"\"\n",
    "\n",
    "import tempfile\n",
    "test_io_config = tempfile.NamedTemporaryFile('w')\n",
    "test_io_config.write(io_config)\n",
    "test_io_config.flush()\n",
    "\n",
    "io=larcv.IOManager(test_io_config.name)\n",
    "io.initialize()"
   ]
  },
  {
   "cell_type": "markdown",
   "metadata": {},
   "source": [
    "Let's create something, and close (i.e. store) the output file. In order to create a new data product, you can use the exact same function `IOManager::get_data` we used earlier. This function, when you instantiate IOManager with `kWRITE` mode, creates a new data product instance if you have not yet created. Here is an example of creating 3 entries and closing the file."
   ]
  },
  {
   "cell_type": "code",
   "execution_count": 14,
   "metadata": {},
   "outputs": [
    {
     "name": "stdout",
     "output_type": "stream",
     "text": [
      "Recording entry 0\n",
      "Recording entry 1\n",
      "Recording entry 2\n",
      "    \u001b[95m[NORMAL]\u001b[00m \u001b[0m \u001b[94m<IOManager::get_data>\u001b[00m Created TTree particle_toy_tree (id=0) w/ 0 entries...\r\n",
      "    \u001b[95m[NORMAL]\u001b[00m \u001b[0m \u001b[94m<IOManager::finalize>\u001b[00m Writing particle_toy_tree with 3 entries\r\n",
      "    \u001b[95m[NORMAL]\u001b[00m \u001b[0m \u001b[94m<IOManager::finalize>\u001b[00m Closing output file\r\n"
     ]
    }
   ],
   "source": [
    "for entry in xrange(3):\n",
    "    print('Recording entry',entry)\n",
    "    my_particle = io.get_data('particle','toy')\n",
    "    io.set_id(0,0,entry)\n",
    "    io.save_entry()\n",
    "io.finalize()"
   ]
  },
  {
   "cell_type": "markdown",
   "metadata": {},
   "source": [
    "As you can tell, for this minimal example, I did not fill any data attributes. However I note two important function calls: `IOManager::set_id` and `IOManager::save_entry()`. The latter is very self-descriptive: it saves a snapshot of all created data product instances. The former is often forgotten! so it is important to note. `IOManager::set_id` function is used to set a unique identifier for TTree _entry_. \n",
    "\n",
    "You might argue **\"Why not using an integer entry index number?\"** and that's a good point! That's because sometimes (actually often) we want to uniquely identify an entry, or _physics event_, across different files. TTree entry indexes, which is 0 or positive integers, are only useful to identify a unique entry within a file. For this purpose, larcv uses a combination of 3 integer attributes called `run`, `subrun`, and `event`. These are _forced_, common attributes to all larcv data product types since they are used to align data products uniquely. As long as they are unique, they can be of any value combinations. <font color=\"blue\">You may define the meaning of these attributes for your own convenience.</font> For instance, you may vary `run` and `event` and keep `subrun` always the same value like 0.\n",
    "\n",
    "Lastly, let's make sure we can read-in this file!"
   ]
  },
  {
   "cell_type": "code",
   "execution_count": 15,
   "metadata": {},
   "outputs": [
    {
     "name": "stdout",
     "output_type": "stream",
     "text": [
      "Listing files opened...\n",
      "  file 0: remove_me.root\n",
      "\n",
      "Number of entries: 3\n",
      "\n",
      "Listing data products stored...\n",
      "  product type:\u001b[91m particle \u001b[00m\n",
      "    \u001b[95m[NORMAL]\u001b[00m \u001b[0m \u001b[94m<IOManager::prepare_input>\u001b[00m Opening a file in READ mode: remove_me.root\r\n",
      "    \u001b[95m[NORMAL]\u001b[00m \u001b[0m \u001b[94m<IOManager::initialize>\u001b[00m Prepared input with 3 entries...\r\n"
     ]
    }
   ],
   "source": [
    "io = larcv.IOManager(0,\"IOManager\")\n",
    "io.add_in_file('remove_me.root')\n",
    "io.initialize()\n",
    "\n",
    "# Get a list of opened files\n",
    "print('Listing files opened...')\n",
    "for count, name in enumerate(io.file_list()):\n",
    "    print('  file {:d}: {:s}'.format(count,name))\n",
    "# Get number of entries in the file\n",
    "print('\\nNumber of entries:', io.get_n_entries())\n",
    "# Get a list of data products stored\n",
    "print('\\nListing data products stored...')\n",
    "for name in io.product_list():\n",
    "    print('  product type:\\033[91m',name,'\\033[00m')"
   ]
  },
  {
   "cell_type": "markdown",
   "metadata": {},
   "source": [
    "<a name=\"readwrite\"></a>\n",
    "## Making modification/addition to existing file\n",
    "The last example case of IOManager use is _read-and-write_ which uses `IOMode_t` enum value 2, or `kBOTH` symbol. Again you can do either interactively:"
   ]
  },
  {
   "cell_type": "code",
   "execution_count": 16,
   "metadata": {},
   "outputs": [
    {
     "name": "stdout",
     "output_type": "stream",
     "text": [
      "initialize() return: True\n",
      "    \u001b[95m[NORMAL]\u001b[00m \u001b[0m \u001b[94m<IOManager::prepare_input>\u001b[00m Opening a file in READ mode: ../proton.root\r\n",
      "    \u001b[95m[NORMAL]\u001b[00m \u001b[0m \u001b[94m<IOManager::prepare_input>\u001b[00m Opening a file in READ mode: ../electron.root\r\n",
      "    \u001b[95m[NORMAL]\u001b[00m \u001b[0m \u001b[94m<IOManager::initialize>\u001b[00m Prepared input with 20 entries...\r\n"
     ]
    }
   ],
   "source": [
    "io = larcv.IOManager(2,\"IOManager\") # identical to IOManager(larcv.IOManager.kWRITE,\"IOManager\")\n",
    "# Add a list of input files\n",
    "io.add_in_file('../proton.root')\n",
    "io.add_in_file('../electron.root')\n",
    "# Set the output file name\n",
    "io.set_out_file('remove_me.root')\n",
    "# Initialize\n",
    "print('initialize() return:',io.initialize())"
   ]
  },
  {
   "cell_type": "markdown",
   "metadata": {},
   "source": [
    "... or using a configuration file:"
   ]
  },
  {
   "cell_type": "code",
   "execution_count": 17,
   "metadata": {},
   "outputs": [
    {
     "data": {
      "text/plain": [
       "True"
      ]
     },
     "execution_count": 17,
     "metadata": {},
     "output_type": "execute_result"
    },
    {
     "name": "stdout",
     "output_type": "stream",
     "text": [
      "    \u001b[95m[NORMAL]\u001b[00m \u001b[0m \u001b[94m<IOManager::prepare_input>\u001b[00m Opening a file in READ mode: ../proton.root\r\n",
      "    \u001b[95m[NORMAL]\u001b[00m \u001b[0m \u001b[94m<IOManager::prepare_input>\u001b[00m Opening a file in READ mode: ../electron.root\r\n",
      "    \u001b[95m[NORMAL]\u001b[00m \u001b[0m \u001b[94m<IOManager::initialize>\u001b[00m Prepared input with 20 entries...\r\n"
     ]
    }
   ],
   "source": [
    "io_config = \\\n",
    "\"\"\"\n",
    "IOManager: {\n",
    "  IOMode:    2\n",
    "  Verbosity: 2\n",
    "  InputFiles:  [\"../proton.root\",\"../electron.root\"]\n",
    "  OutFileName: \"remove_me.root\"\n",
    "}\n",
    "\"\"\"\n",
    "\n",
    "import tempfile\n",
    "test_io_config = tempfile.NamedTemporaryFile('w')\n",
    "test_io_config.write(io_config)\n",
    "test_io_config.flush()\n",
    "\n",
    "io=larcv.IOManager(test_io_config.name)\n",
    "io.initialize()"
   ]
  },
  {
   "cell_type": "markdown",
   "metadata": {},
   "source": [
    "Create 3 toy data product instances per event and store."
   ]
  },
  {
   "cell_type": "code",
   "execution_count": 18,
   "metadata": {},
   "outputs": [
    {
     "name": "stdout",
     "output_type": "stream",
     "text": [
      "CPU times: user 13.8 ms, sys: 3.22 ms, total: 17 ms\n",
      "Wall time: 17.3 ms\n",
      "    \u001b[95m[NORMAL]\u001b[00m \u001b[0m \u001b[94m<IOManager::get_data>\u001b[00m Created TTree particle_toy_tree (id=2) w/ 0 entries...\r\n",
      "    \u001b[95m[NORMAL]\u001b[00m \u001b[0m \u001b[94m<IOManager::finalize>\u001b[00m Writing particle_mctruth_tree with 3 entries\r\n",
      "    \u001b[95m[NORMAL]\u001b[00m \u001b[0m \u001b[94m<IOManager::finalize>\u001b[00m Writing image2d_data_tree with 3 entries\r\n",
      "    \u001b[95m[NORMAL]\u001b[00m \u001b[0m \u001b[94m<IOManager::finalize>\u001b[00m Writing particle_toy_tree with 3 entries\r\n",
      "    \u001b[95m[NORMAL]\u001b[00m \u001b[0m \u001b[94m<IOManager::finalize>\u001b[00m Closing output file\r\n"
     ]
    }
   ],
   "source": [
    "%%time\n",
    "\n",
    "for entry in xrange(3):\n",
    "    io.read_entry(entry)\n",
    "    oiriginal = io.get_data('particle','mctruth')\n",
    "    mine      = io.get_data('particle','toy')\n",
    "    io.save_entry()\n",
    "io.finalize()"
   ]
  },
  {
   "cell_type": "markdown",
   "metadata": {},
   "source": [
    "You may have noticed, in this example, we did not call `IOManager::set_id()` function. This is because it was not necessary. You see we first called `oiriginal = io.get_data('particle','mctruth')`. When this is executed, IOManager reads-in this data product from the disk, and fetch (`run`,`subrun`,`event`) data from this data product. Then this combination of integers are used as the default _event identifier key_ for newly created data product (the next line). Of course, if you would like to, you can still over-ride this combination by calling `IOManager::set_id` explicitly.\n",
    "\n",
    "<a name=\"readwrite_fast\"></a>\n",
    "## _Fast_ Read/Write\n",
    "You may have noticed, in the last code block we executed, `IOManager::finalize` reported that 3 TTrees are written: `particle_mctruth_tree`, `image2d_data_tree`, and `particle_toy_tree` where the last one is what we added. This shows you that the `kBOTH` mode by default **reads and writes _all_ data products**. But this is not always what you want to do, and it may slow down your IO by doing extra read/write. Sometimes you want to read a _subset_ of input, and write out a (possibly different) subset to the output. You can do this by specifying a list of data products to be read-in and write-out separately."
   ]
  },
  {
   "cell_type": "code",
   "execution_count": 19,
   "metadata": {},
   "outputs": [
    {
     "data": {
      "text/plain": [
       "True"
      ]
     },
     "execution_count": 19,
     "metadata": {},
     "output_type": "execute_result"
    },
    {
     "name": "stdout",
     "output_type": "stream",
     "text": [
      "    \u001b[95m[NORMAL]\u001b[00m \u001b[0m \u001b[94m<IOManager::prepare_input>\u001b[00m Opening a file in READ mode: ../proton.root\r\n",
      "    \u001b[95m[NORMAL]\u001b[00m \u001b[0m \u001b[94m<IOManager::prepare_input>\u001b[00m Skipping: producer=data type= image2d\r\n",
      "    \u001b[95m[NORMAL]\u001b[00m \u001b[0m \u001b[94m<IOManager::prepare_input>\u001b[00m Opening a file in READ mode: ../electron.root\r\n",
      "    \u001b[95m[NORMAL]\u001b[00m \u001b[0m \u001b[94m<IOManager::prepare_input>\u001b[00m Skipping: producer=data type= image2d\r\n",
      "    \u001b[95m[NORMAL]\u001b[00m \u001b[0m \u001b[94m<IOManager::initialize>\u001b[00m Prepared input with 20 entries...\r\n"
     ]
    }
   ],
   "source": [
    "io_config = \\\n",
    "\"\"\"\n",
    "IOManager: {\n",
    "  IOMode:    2\n",
    "  Verbosity: 2\n",
    "  InputFiles:    [\"../proton.root\",\"../electron.root\"]\n",
    "  OutFileName:   \"remove_me.root\"\n",
    "  ReadOnlyType:  [\"particle\"]\n",
    "  ReadOnlyName:  [\"mctruth\"]\n",
    "  WriteOnlyType: [\"particle\",\"particle\"]\n",
    "  WriteOnlyName: [\"toy\",\"mctruth\"]\n",
    "}\n",
    "\"\"\"\n",
    "\n",
    "import tempfile\n",
    "test_io_config = tempfile.NamedTemporaryFile('w')\n",
    "test_io_config.write(io_config)\n",
    "test_io_config.flush()\n",
    "\n",
    "io=larcv.IOManager(test_io_config.name)\n",
    "io.initialize()"
   ]
  },
  {
   "cell_type": "markdown",
   "metadata": {},
   "source": [
    "Note the additional configuration parameters, `ReadOnlyName`, `ReadOnlyType`, `WriteOnlyName`, and `WriteOnlyType`. These should be the array of strings specifying a list of data product types and labels to read/write. The order of strings should be matching for ReadOnly and WriteOnly parameters.\n",
    "\n",
    "In the resulting output, first, you notice IOManager reports it skipped reading data product type `image2d` with label `data` as we configured!"
   ]
  },
  {
   "cell_type": "code",
   "execution_count": 20,
   "metadata": {},
   "outputs": [
    {
     "name": "stdout",
     "output_type": "stream",
     "text": [
      "CPU times: user 4.46 ms, sys: 1.57 ms, total: 6.04 ms\n",
      "Wall time: 6.32 ms\n",
      "    \u001b[95m[NORMAL]\u001b[00m \u001b[0m \u001b[94m<IOManager::get_data>\u001b[00m Created TTree particle_toy_tree (id=1) w/ 0 entries...\r\n",
      "    \u001b[95m[NORMAL]\u001b[00m \u001b[0m \u001b[94m<IOManager::finalize>\u001b[00m Writing particle_mctruth_tree with 3 entries\r\n",
      "    \u001b[95m[NORMAL]\u001b[00m \u001b[0m \u001b[94m<IOManager::finalize>\u001b[00m Writing particle_toy_tree with 3 entries\r\n",
      "    \u001b[95m[NORMAL]\u001b[00m \u001b[0m \u001b[94m<IOManager::finalize>\u001b[00m Closing output file\r\n"
     ]
    }
   ],
   "source": [
    "%%time\n",
    "for entry in xrange(3):\n",
    "    io.read_entry(entry)\n",
    "    oiriginal = io.get_data('particle','mctruth')\n",
    "    mine      = io.get_data('particle','toy')\n",
    "    io.save_entry()\n",
    "io.finalize()"
   ]
  },
  {
   "cell_type": "markdown",
   "metadata": {},
   "source": [
    "Comparing the measured CPU and wall time in the cell just above this to the one we previously executed without avoiding to read/write `image2d` data product, you can see we gained a significant speed up. Use a combination of ReadOnlyX and WriteOnlyX whenever appropriate for your use of IOManager!"
   ]
  },
  {
   "cell_type": "markdown",
   "metadata": {},
   "source": [
    "<a name=\"closing\"></a>\n",
    "## Closing remark\n",
    "In this notebook we covered how to use larcv's C++ file handler called IOManager. Please note, for browsing files interactively, this is a complementary approach to using bare ROOT APIs. Both methods are useful. However you IOManager is the IO interface used for programming larcv _modules_, which you will eventually see if you are following larcv wiki/manual!"
   ]
  }
 ],
 "metadata": {
  "kernelspec": {
   "display_name": "Python 2",
   "language": "python",
   "name": "python2"
  },
  "language_info": {
   "codemirror_mode": {
    "name": "ipython",
    "version": 2
   },
   "file_extension": ".py",
   "mimetype": "text/x-python",
   "name": "python",
   "nbconvert_exporter": "python",
   "pygments_lexer": "ipython2",
   "version": "2.7.10"
  }
 },
 "nbformat": 4,
 "nbformat_minor": 2
}
